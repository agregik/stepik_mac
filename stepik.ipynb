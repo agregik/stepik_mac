{
 "cells": [
  {
   "cell_type": "code",
   "execution_count": 112,
   "metadata": {},
   "outputs": [
    {
     "ename": "ValueError",
     "evalue": "invalid literal for int() with base 10: ''",
     "output_type": "error",
     "traceback": [
      "\u001b[0;31m---------------------------------------------------------------------------\u001b[0m",
      "\u001b[0;31mValueError\u001b[0m                                Traceback (most recent call last)",
      "\u001b[1;32m/Users/agregnikita/Desktop/Algoritms Financial Universyity/all/stepik.ipynb Cell 1\u001b[0m line \u001b[0;36m3\n\u001b[1;32m      <a href='vscode-notebook-cell:/Users/agregnikita/Desktop/Algoritms%20Financial%20Universyity/all/stepik.ipynb#W0sZmlsZQ%3D%3D?line=0'>1</a>\u001b[0m \u001b[39m# Type of triangle\u001b[39;00m\n\u001b[0;32m----> <a href='vscode-notebook-cell:/Users/agregnikita/Desktop/Algoritms%20Financial%20Universyity/all/stepik.ipynb#W0sZmlsZQ%3D%3D?line=2'>3</a>\u001b[0m a,b,c \u001b[39m=\u001b[39m \u001b[39mint\u001b[39m(\u001b[39minput\u001b[39m()), \u001b[39mint\u001b[39;49m(\u001b[39minput\u001b[39;49m()), \u001b[39mint\u001b[39m(\u001b[39minput\u001b[39m())\n\u001b[1;32m      <a href='vscode-notebook-cell:/Users/agregnikita/Desktop/Algoritms%20Financial%20Universyity/all/stepik.ipynb#W0sZmlsZQ%3D%3D?line=3'>4</a>\u001b[0m \u001b[39mif\u001b[39;00m a \u001b[39m==\u001b[39m b \u001b[39m==\u001b[39m c:\n\u001b[1;32m      <a href='vscode-notebook-cell:/Users/agregnikita/Desktop/Algoritms%20Financial%20Universyity/all/stepik.ipynb#W0sZmlsZQ%3D%3D?line=4'>5</a>\u001b[0m     \u001b[39mprint\u001b[39m(\u001b[39m'\u001b[39m\u001b[39mРавносторонний\u001b[39m\u001b[39m'\u001b[39m)\n",
      "\u001b[0;31mValueError\u001b[0m: invalid literal for int() with base 10: ''"
     ]
    }
   ],
   "source": [
    "# Type of triangle\n",
    "\n",
    "a,b,c = int(input()), int(input()), int(input())\n",
    "if a == b == c:\n",
    "    print('Равносторонний')\n",
    "elif a == b or a == c or b == c:\n",
    "    print('Равнобедренный')\n",
    "else:\n",
    "    print('Разносторонний')"
   ]
  },
  {
   "cell_type": "code",
   "execution_count": null,
   "metadata": {},
   "outputs": [
    {
     "name": "stdout",
     "output_type": "stream",
     "text": [
      "2\n"
     ]
    }
   ],
   "source": [
    "# Среднее арифметическое\n",
    "\n",
    "a,b,c = int(input()), int(input()), int(input())\n",
    "srt = []\n",
    "srt.append(a)\n",
    "srt.append(b)\n",
    "srt.append(c)\n",
    "srt.sort()\n",
    "print(srt[1])"
   ]
  },
  {
   "cell_type": "code",
   "execution_count": null,
   "metadata": {},
   "outputs": [
    {
     "name": "stdout",
     "output_type": "stream",
     "text": [
      "Легкий вес\n"
     ]
    }
   ],
   "source": [
    "# Церемония взвешивания\n",
    "\n",
    "weighst = int(input())\n",
    "if weighst < 60:\n",
    "    print('Легкий вес')\n",
    "elif weighst < 64:\n",
    "    print('Первый полусредний вес')\n",
    "else:\n",
    "    print('Полусредний вес')"
   ]
  },
  {
   "cell_type": "code",
   "execution_count": null,
   "metadata": {},
   "outputs": [
    {
     "name": "stdout",
     "output_type": "stream",
     "text": [
      "Неверная операция\n"
     ]
    }
   ],
   "source": [
    "# Самописный калькулятор\n",
    "\n",
    "a,b = int(input()), int(input())\n",
    "operation = ('*', '+','-','/')\n",
    "operation = input()\n",
    "if operation == '*':\n",
    "    print(a * b)\n",
    "elif operation == '+':\n",
    "    print(a + b)\n",
    "elif operation == '-':\n",
    "    print(a - b)\n",
    "elif operation == '/' and b == 0: \n",
    "    print('На ноль делить нельзя!')\n",
    "elif operation == '/':\n",
    "    print(a / b)\n",
    "else:\n",
    "    print('Неверная операция')\n",
    "\n"
   ]
  },
  {
   "cell_type": "code",
   "execution_count": null,
   "metadata": {},
   "outputs": [
    {
     "ename": "ValueError",
     "evalue": "invalid literal for int() with base 10: ''",
     "output_type": "error",
     "traceback": [
      "\u001b[0;31m---------------------------------------------------------------------------\u001b[0m",
      "\u001b[0;31mValueError\u001b[0m                                Traceback (most recent call last)",
      "\u001b[1;32m/Users/agregnikita/Desktop/Algoritms Financial Universyity/all/stepik.ipynb Cell 5\u001b[0m line \u001b[0;36m3\n\u001b[1;32m      <a href='vscode-notebook-cell:/Users/agregnikita/Desktop/Algoritms%20Financial%20Universyity/all/stepik.ipynb#W4sZmlsZQ%3D%3D?line=0'>1</a>\u001b[0m \u001b[39m# Номер месяца\u001b[39;00m\n\u001b[0;32m----> <a href='vscode-notebook-cell:/Users/agregnikita/Desktop/Algoritms%20Financial%20Universyity/all/stepik.ipynb#W4sZmlsZQ%3D%3D?line=2'>3</a>\u001b[0m month \u001b[39m=\u001b[39m \u001b[39mint\u001b[39;49m(\u001b[39minput\u001b[39;49m())\n\u001b[1;32m      <a href='vscode-notebook-cell:/Users/agregnikita/Desktop/Algoritms%20Financial%20Universyity/all/stepik.ipynb#W4sZmlsZQ%3D%3D?line=3'>4</a>\u001b[0m \u001b[39mif\u001b[39;00m month \u001b[39min\u001b[39;00m (\u001b[39m12\u001b[39m,\u001b[39m5\u001b[39m,\u001b[39m1\u001b[39m,\u001b[39m3\u001b[39m,\u001b[39m7\u001b[39m,\u001b[39m8\u001b[39m,\u001b[39m10\u001b[39m):\n\u001b[1;32m      <a href='vscode-notebook-cell:/Users/agregnikita/Desktop/Algoritms%20Financial%20Universyity/all/stepik.ipynb#W4sZmlsZQ%3D%3D?line=4'>5</a>\u001b[0m     \u001b[39mprint\u001b[39m(\u001b[39m'\u001b[39m\u001b[39m31\u001b[39m\u001b[39m'\u001b[39m)\n",
      "\u001b[0;31mValueError\u001b[0m: invalid literal for int() with base 10: ''"
     ]
    }
   ],
   "source": [
    "# Номер месяца\n",
    "\n",
    "month = int(input())\n",
    "if month in (12,5,1,3,7,8,10):\n",
    "    print('31')\n",
    "elif month in (6,9,4,11):\n",
    "    print('30')\n",
    "else:\n",
    "    print('28')\n"
   ]
  },
  {
   "cell_type": "code",
   "execution_count": null,
   "metadata": {},
   "outputs": [
    {
     "name": "stdout",
     "output_type": "stream",
     "text": [
      "ошибка цвета\n"
     ]
    }
   ],
   "source": [
    "# Цветовой микшер\n",
    "\n",
    "color1 = input()\n",
    "color2 = input()\n",
    "if (color1 == 'красный' and color2 == 'синий') or (color1 == 'синий' and color2 == 'красный'):\n",
    "    print('фиолетовый')\n",
    "elif (color1 == 'красный' and color2 == 'желтый') or (color1 == 'желтый' and color2 == 'красный'):\n",
    "    print('оранжевый')\n",
    "elif (color1 == 'синий' and color2 == 'желтый') or (color1 == 'желтый' and color2 == 'синий'):\n",
    "    print('зеленый')\n",
    "elif color1 == color2 and (color1 == 'красный' or color1 == 'синий' or color1 == 'желтый'):\n",
    "    print(color1)\n",
    "else:\n",
    "    print('ошибка цвета')\n"
   ]
  },
  {
   "cell_type": "code",
   "execution_count": null,
   "metadata": {},
   "outputs": [
    {
     "name": "stdout",
     "output_type": "stream",
     "text": [
      "черный\n"
     ]
    }
   ],
   "source": [
    "digit = int(input()) \n",
    "if digit == 0:\n",
    "    print('зеленый') \n",
    "elif 1 <= digit <= 10 and digit % 2 == 0: \n",
    "    print('черный')\n",
    "elif 1 <= digit <= 10 and digit % 2 != 0: \n",
    "    print('красный')\n",
    "elif 11 <= digit <= 18 and digit % 2 != 0: \n",
    "    print('черный')\n",
    "elif 11 <= digit <= 18 and digit % 2 == 0: \n",
    "    print('красный')\n",
    "elif 19 <= digit <= 28 and digit % 2 != 0: \n",
    "    print('красный')\n",
    "elif 19 <= digit <= 28 and digit % 2 == 0: \n",
    "    print('черный')\n",
    "elif 29 <= digit <= 36 and digit % 2 != 0: \n",
    "    print('черный')\n",
    "elif 29 <= digit <= 36 and digit % 2 == 0: \n",
    "    print('красный')\n",
    "else:\n",
    "    print('ошибка ввода')\n"
   ]
  },
  {
   "cell_type": "code",
   "execution_count": null,
   "metadata": {},
   "outputs": [],
   "source": [
    "a1,b1,a2,b2 = int(input()), int(input()), int(input()), int(input())\n",
    "if b1 < a2 or b2 > a1:\n",
    "    print('пустое множество')\n",
    "elif b1 == a2:\n",
    "    print(b1)\n",
    "elif b2 == a1:\n",
    "    print(a1)\n",
    "elif a1 <= a2 < b1 < b2:\n",
    "    print(a2, b1)\n",
    "elif a2 <= a1 < b2 < b1:\n",
    "    print(a1, b2)\n",
    "elif a1 < a2 < b2 <= b1:\n",
    "    print(a2, b2)\n",
    "elif a2 < a1 < b1 <= b2:\n",
    "    print(a1,b1)\n",
    "elif a1 == a2 and b1 == b2:\n",
    "    print(a1, b1)"
   ]
  },
  {
   "cell_type": "code",
   "execution_count": null,
   "metadata": {},
   "outputs": [
    {
     "name": "stdout",
     "output_type": "stream",
     "text": [
      "NO\n"
     ]
    }
   ],
   "source": [
    "# 1\n",
    "num = (input()) \n",
    "if num[-1] == '0' and num[-2] == '0':\n",
    "    print('YES')\n",
    "else:\n",
    "    print('NO')"
   ]
  },
  {
   "cell_type": "code",
   "execution_count": null,
   "metadata": {},
   "outputs": [],
   "source": [
    "x1,y1,x2,y2 = int(input()), int(input()), int(input()), int(input())\n",
    "if (x1 + y1 + x2 + y2) % 2 == 0:\n",
    "    print('YES')\n",
    "else:\n",
    "    print('NO')"
   ]
  },
  {
   "cell_type": "code",
   "execution_count": null,
   "metadata": {},
   "outputs": [],
   "source": [
    "#3\n",
    "age, sex = int(input()), input() \n",
    "if 10 <= age <= 15 and sex == 'f':\n",
    "    print('YES')\n",
    "else:\n",
    "    print('NO')"
   ]
  },
  {
   "cell_type": "code",
   "execution_count": null,
   "metadata": {},
   "outputs": [],
   "source": [
    "#4 \n",
    "nums = int(input())\n",
    "if nums == 1:\n",
    "    print('I')\n",
    "elif nums == 2:\n",
    "    print('II')\n",
    "elif nums == 3:\n",
    "    print('III')\n",
    "elif nums == 4:\n",
    "    print('IV')\n",
    "elif nums == 5:\n",
    "    print('V')\n",
    "elif nums == 6:\n",
    "    print('VI')\n",
    "elif nums == 7:\n",
    "    print('VII')\n",
    "elif nums == 8:\n",
    "    print('VIII')\n",
    "elif nums == 9:\n",
    "    print('IX')\n",
    "elif nums == 10:\n",
    "    print('X')\n",
    "elif 0 > nums or nums > 10:\n",
    "    print('ошибкаф')"
   ]
  },
  {
   "cell_type": "code",
   "execution_count": null,
   "metadata": {},
   "outputs": [],
   "source": [
    "# 5 \n",
    "\n",
    "a = int(input())\n",
    "if a % 2 != 0:\n",
    "    print('YES')\n",
    "elif 2 <= a <= 5 and a % 2 == 0:\n",
    "    print('NO')\n",
    "elif 6 <= a <= 20 and a % 2 == 0:\n",
    "    print('YES')\n",
    "elif a > 20 and a % 2 == 0:\n",
    "    print('NO')\n"
   ]
  },
  {
   "cell_type": "code",
   "execution_count": null,
   "metadata": {},
   "outputs": [],
   "source": [
    "# 6 \n",
    "\n",
    "x1,y1,x2,y2 = int(input()), int(input()), int(input()), int(input())\n",
    "if x1 + y1 == x2 + y2:\n",
    "    print('YES')\n",
    "elif x1 - y1 == x2 - y2:\n",
    "    print('YES')\n",
    "else:\n",
    "    print(\"NO\")"
   ]
  },
  {
   "cell_type": "code",
   "execution_count": null,
   "metadata": {},
   "outputs": [
    {
     "name": "stdout",
     "output_type": "stream",
     "text": [
      "Число интересное\n"
     ]
    }
   ],
   "source": [
    "a = int(input())\n",
    "a1 = (a % 10)\n",
    "a2 = ((a % 100) // 10)\n",
    "a3 = (a // 100)\n",
    "if (max(a1,a2,a3) - min(a1,a2,a3) == (a1 + a2 + a3) - max(a1,a2,a3) - min(a1,a2,a3)):\n",
    "    print('Число интересное')\n",
    "else:\n",
    "    print('Число неинтересное')"
   ]
  },
  {
   "cell_type": "code",
   "execution_count": null,
   "metadata": {},
   "outputs": [],
   "source": [
    "a1,a2,a3,a4,a5 = float(input()), float(input()), float(input()), float(input()), float(input())\n",
    "print(abs(a1) + abs(a2) + abs(a3) + abs(a4) + abs(a5))"
   ]
  },
  {
   "cell_type": "code",
   "execution_count": null,
   "metadata": {},
   "outputs": [],
   "source": [
    "p1,p2,q1,q2 = int(input()), int(input()), int(input()), int(input())\n",
    "print(abs(p1-q1) + abs(p2-q2))"
   ]
  },
  {
   "cell_type": "code",
   "execution_count": null,
   "metadata": {},
   "outputs": [
    {
     "name": "stdout",
     "output_type": "stream",
     "text": [
      "Hello Nikita Bokov! You have just delved into Python\n"
     ]
    }
   ],
   "source": [
    "first_name, last_name = input(), input()\n",
    "print('Hello', first_name, last_name + '!', 'You have just delved into Python')"
   ]
  },
  {
   "cell_type": "code",
   "execution_count": null,
   "metadata": {},
   "outputs": [
    {
     "name": "stdout",
     "output_type": "stream",
     "text": [
      "Футбольная команда Barcelona имеет длину 9\n"
     ]
    }
   ],
   "source": [
    "football_team_name = input()\n",
    "print('Футбольная команда', football_team_name, 'имеет длину', len(football_team_name), 'символов')"
   ]
  },
  {
   "cell_type": "code",
   "execution_count": null,
   "metadata": {},
   "outputs": [
    {
     "name": "stdout",
     "output_type": "stream",
     "text": [
      "gh\n"
     ]
    }
   ],
   "source": [
    "city,city2,city3 = input(), input(),input()\n",
    "print(min(city,city2,city3,key=len))\n",
    "print(max(city,city2,city3, key=len))"
   ]
  },
  {
   "cell_type": "code",
   "execution_count": null,
   "metadata": {},
   "outputs": [],
   "source": [
    "word, word2, word3 = input(), input(), input()\n",
    "a = (len(word) + len(word2) + len(word3)) - max(word,word2,word3, key=len) - min(word,word2,word3, key=len)\n",
    "print(a)"
   ]
  },
  {
   "cell_type": "code",
   "execution_count": null,
   "metadata": {},
   "outputs": [
    {
     "name": "stdout",
     "output_type": "stream",
     "text": [
      "Python is awesome\n",
      "Python is awesome\n",
      "Python is awesome\n",
      "Python is awesome\n",
      "Python is awesome\n",
      "Python is awesome\n",
      "Python is awesome\n",
      "Python is awesome\n",
      "Python is awesome\n",
      "Python is awesome\n"
     ]
    }
   ],
   "source": [
    "for i in range(10):\n",
    "    print('Python is awesome')\n"
   ]
  },
  {
   "cell_type": "code",
   "execution_count": null,
   "metadata": {},
   "outputs": [],
   "source": [
    "sentense = input()\n",
    "a = int(input())\n",
    "for i in range(a):\n",
    "    print(sentense)"
   ]
  },
  {
   "cell_type": "code",
   "execution_count": null,
   "metadata": {},
   "outputs": [
    {
     "name": "stdout",
     "output_type": "stream",
     "text": [
      "AAA\n",
      "AAA\n",
      "AAA\n",
      "AAA\n",
      "AAA\n",
      "AAA\n"
     ]
    }
   ],
   "source": [
    "for i in range(6):\n",
    "    print('AAA')\n",
    "for i in range(5):\n",
    "    print('BBB')"
   ]
  },
  {
   "cell_type": "code",
   "execution_count": null,
   "metadata": {},
   "outputs": [
    {
     "name": "stdout",
     "output_type": "stream",
     "text": [
      "10\n",
      "9\n",
      "8\n",
      "7\n",
      "6\n",
      "5\n",
      "4\n",
      "3\n",
      "2\n",
      "1\n"
     ]
    }
   ],
   "source": [
    "m,n = int(input()), int(input())\n",
    "if m < n:\n",
    "    for m in range(m,n+1):\n",
    "        print(m)\n",
    "\n",
    "elif m == n:\n",
    "    print(m)\n",
    "\n",
    "elif m > n:\n",
    "    for _ in range(m, n - 1, -1):\n",
    "        print(_)\n"
   ]
  },
  {
   "cell_type": "code",
   "execution_count": null,
   "metadata": {},
   "outputs": [],
   "source": [
    "n = int(input())\n",
    "for i in range(1,11):\n",
    "    print(n,'x',i, '=', n * i)"
   ]
  },
  {
   "cell_type": "code",
   "execution_count": null,
   "metadata": {},
   "outputs": [],
   "source": [
    "i = 5\n",
    "while i <= 11:\n",
    "    print('Python awesome!')\n",
    "    i += 1"
   ]
  },
  {
   "cell_type": "code",
   "execution_count": null,
   "metadata": {},
   "outputs": [
    {
     "name": "stdout",
     "output_type": "stream",
     "text": [
      "lol\n",
      "kek\n"
     ]
    }
   ],
   "source": [
    "word = input()\n",
    "while word != 'КОНЕЦ' and word != 'конец':\n",
    "    print(word)\n",
    "    word = input()\n"
   ]
  },
  {
   "cell_type": "code",
   "execution_count": null,
   "metadata": {},
   "outputs": [],
   "source": [
    "cnt = 0 \n",
    "words = input()\n",
    "while words != 'достаточно' and words != 'стоп' and words != 'хватит':\n",
    "    cnt += 1\n",
    "    words = input()\n",
    "print(cnt)\n",
    "\n"
   ]
  },
  {
   "cell_type": "code",
   "execution_count": null,
   "metadata": {},
   "outputs": [
    {
     "name": "stdout",
     "output_type": "stream",
     "text": [
      "49\n",
      "2401\n"
     ]
    }
   ],
   "source": [
    "num = int(input())\n",
    "while num % 7 == 0:\n",
    "    print(num)\n",
    "    num = int(input())\n"
   ]
  },
  {
   "cell_type": "code",
   "execution_count": null,
   "metadata": {},
   "outputs": [
    {
     "name": "stdout",
     "output_type": "stream",
     "text": [
      "27\n"
     ]
    }
   ],
   "source": [
    "number = int(input())\n",
    "cnt = 0 \n",
    "while number >= 0:\n",
    "    cnt += number\n",
    "    number = int(input())\n",
    "print(cnt)\n"
   ]
  },
  {
   "cell_type": "code",
   "execution_count": null,
   "metadata": {},
   "outputs": [],
   "source": [
    "number = int(input())\n",
    "cnt_5 = 0 \n",
    "while number >= 0 and number <= 5:\n",
    "    if number % 5 == 0:\n",
    "        cnt_5 += 1\n",
    "    number = int(input())\n",
    "print(cnt_5)"
   ]
  },
  {
   "cell_type": "code",
   "execution_count": null,
   "metadata": {},
   "outputs": [
    {
     "name": "stdout",
     "output_type": "stream",
     "text": [
      "7\n"
     ]
    }
   ],
   "source": [
    "num = int(input())\n",
    "cnt = 0 \n",
    "while num != 0:\n",
    "    if num >= 25:\n",
    "        num -= 25\n",
    "        cnt += 1\n",
    "    elif num >= 10:\n",
    "        num -= 10\n",
    "        cnt += 1 \n",
    "    elif num >= 5:\n",
    "        num -= 5 \n",
    "        cnt += 1 \n",
    "    elif num >= 1:\n",
    "        num -= 1\n",
    "        cnt += 1 \n",
    "print(cnt)\n",
    "    \n"
   ]
  },
  {
   "cell_type": "code",
   "execution_count": null,
   "metadata": {},
   "outputs": [
    {
     "name": "stdout",
     "output_type": "stream",
     "text": [
      "321"
     ]
    }
   ],
   "source": [
    "# put your python code here\n",
    "num = int(input())\n",
    "while num != 0:\n",
    "    a = num % 10 \n",
    "    num = num // 10 \n",
    "    print(a, end = '')\n",
    "\n",
    "\n",
    "\n"
   ]
  },
  {
   "cell_type": "code",
   "execution_count": null,
   "metadata": {},
   "outputs": [
    {
     "name": "stdout",
     "output_type": "stream",
     "text": [
      "2\n"
     ]
    }
   ],
   "source": [
    "n = int(input())\n",
    "for i in range(2,n + 1):\n",
    "    if n % i == 0:\n",
    "        break \n",
    "print(i)"
   ]
  },
  {
   "cell_type": "code",
   "execution_count": null,
   "metadata": {},
   "outputs": [
    {
     "name": "stdout",
     "output_type": "stream",
     "text": [
      "1\n",
      "2\n",
      "3\n",
      "4\n",
      "10\n"
     ]
    }
   ],
   "source": [
    "n = int(input())\n",
    "for i in range(1, n + 1):\n",
    "    if (5 <= i <= 9) or (17 <= i <= 37) or (78 <= i <= 87):\n",
    "        continue\n",
    "    print(i)\n"
   ]
  },
  {
   "cell_type": "code",
   "execution_count": null,
   "metadata": {},
   "outputs": [
    {
     "name": "stdout",
     "output_type": "stream",
     "text": [
      "7\n",
      "50\n"
     ]
    }
   ],
   "source": [
    "cnt = 0 \n",
    "mult = 1 \n",
    "for i in range(1,11):\n",
    "    x = int(input())\n",
    "\n",
    "    if x >= 0:\n",
    "        mult += x\n",
    "        cnt += 1\n",
    "    \n",
    "if cnt > 0:\n",
    "    print(cnt)\n",
    "    print(mult)\n",
    "else:\n",
    "    print('NO')"
   ]
  },
  {
   "cell_type": "code",
   "execution_count": null,
   "metadata": {},
   "outputs": [
    {
     "name": "stdout",
     "output_type": "stream",
     "text": [
      "1 \n",
      "2 3 \n",
      "4 5 6 \n"
     ]
    }
   ],
   "source": [
    "cnt = 0\n",
    "num = int(input())\n",
    "for i in range(1, num + 1):\n",
    "    for j in range(1, i + 1):\n",
    "        cnt += 1 \n",
    "        print(cnt, end = ' ')\n",
    "    print()\n"
   ]
  },
  {
   "cell_type": "code",
   "execution_count": 113,
   "metadata": {},
   "outputs": [
    {
     "name": "stdout",
     "output_type": "stream",
     "text": [
      "1+\n",
      "2++\n",
      "3++\n"
     ]
    }
   ],
   "source": [
    "num = int(input())\n",
    "for i in range(1, num + 1):\n",
    "    cnt = 0 \n",
    "    for j in range(1, i + 1):\n",
    "        if i % j == 0:\n",
    "            cnt += 1 \n",
    "    print(i,'+' * cnt, sep ='')\n",
    "    "
   ]
  },
  {
   "cell_type": "code",
   "execution_count": null,
   "metadata": {},
   "outputs": [],
   "source": [
    "import math\n",
    "n = int(input())\n",
    "summ =  0\n",
    "for i in range(1, n + 1):\n",
    "    summ += math.factorial(i)\n",
    "print(summ)\n"
   ]
  },
  {
   "cell_type": "code",
   "execution_count": 2,
   "metadata": {},
   "outputs": [
    {
     "name": "stdout",
     "output_type": "stream",
     "text": [
      "2\n",
      "3\n",
      "5\n",
      "7\n",
      "11\n",
      "13\n"
     ]
    }
   ],
   "source": [
    "a,b = int(input()), int(input())\n",
    "for i in range(a, b + 1):\n",
    "    cnt = 0 \n",
    "    for j in range(1, i + 1):\n",
    "        if i % j == 0:\n",
    "            cnt += 1 \n",
    "    if cnt == 2:\n",
    "        print(i)\n",
    "            "
   ]
  },
  {
   "cell_type": "code",
   "execution_count": 7,
   "metadata": {},
   "outputs": [
    {
     "name": "stdout",
     "output_type": "stream",
     "text": [
      "10 18\n"
     ]
    }
   ],
   "source": [
    "a,b = int(input()), int(input())\n",
    "cnt = 0 \n",
    "max_cnt = 0 \n",
    "x = 0 \n",
    "for i in range(a, b + 1):\n",
    "    for j in range(1, i + 1):\n",
    "        if i % j == 0:\n",
    "            cnt += j\n",
    "    if cnt >= max_cnt:\n",
    "        max_cnt = cnt\n",
    "        x = i\n",
    "    cnt = 0 \n",
    "print(x, max_cnt)"
   ]
  },
  {
   "cell_type": "code",
   "execution_count": 10,
   "metadata": {},
   "outputs": [
    {
     "name": "stdout",
     "output_type": "stream",
     "text": [
      "s\n",
      "g\n",
      "d\n",
      "n\n"
     ]
    }
   ],
   "source": [
    "n = input()\n",
    "for i in range(len(n)):\n",
    "    if i % 2 == 0:\n",
    "        print(n[i])\n"
   ]
  },
  {
   "cell_type": "code",
   "execution_count": 14,
   "metadata": {},
   "outputs": [
    {
     "name": "stdout",
     "output_type": "stream",
     "text": [
      "y , t\n"
     ]
    }
   ],
   "source": [
    "a,b,c = input(), input(), input()\n",
    "print(a[0],b[0],c[0])"
   ]
  },
  {
   "cell_type": "code",
   "execution_count": 22,
   "metadata": {},
   "outputs": [
    {
     "name": "stdout",
     "output_type": "stream",
     "text": [
      "7\n"
     ]
    }
   ],
   "source": [
    "s = input()\n",
    "cnt = 0 \n",
    "for i in range(0, len(s)):\n",
    "    cnt += int(s[i])\n",
    "print(cnt)"
   ]
  },
  {
   "cell_type": "code",
   "execution_count": null,
   "metadata": {},
   "outputs": [],
   "source": [
    "s = input()\n",
    "for i in range(0, len(s)):\n",
    "    if s[i] in '0123456789':\n",
    "        print('Цифра')\n",
    "        break\n",
    "else:\n",
    "    print('Цифр нет')"
   ]
  },
  {
   "cell_type": "code",
   "execution_count": 26,
   "metadata": {},
   "outputs": [
    {
     "name": "stdout",
     "output_type": "stream",
     "text": [
      "1 2\n"
     ]
    }
   ],
   "source": [
    "s = input()\n",
    "cnt = 0\n",
    "cnt2 = 0\n",
    "for i in range(0, len(s)):\n",
    "    if s[i] in '*':\n",
    "        cnt += 1\n",
    "    elif s[i] in '+':\n",
    "        cnt2 += 1\n",
    "print('Символ + встречается', cnt, 'раз')\n",
    "print('Символ * встречается', cnt2, 'раз')"
   ]
  },
  {
   "cell_type": "code",
   "execution_count": 31,
   "metadata": {},
   "outputs": [
    {
     "name": "stdout",
     "output_type": "stream",
     "text": [
      "0\n"
     ]
    }
   ],
   "source": [
    "s = input()\n",
    "cnt = 0\n",
    "for i in range(len(s) - 1):\n",
    "    if s[i] == s[i + 1]:\n",
    "        cnt += 1\n",
    "print(cnt)"
   ]
  },
  {
   "cell_type": "code",
   "execution_count": null,
   "metadata": {},
   "outputs": [],
   "source": [
    "s = input()\n",
    "cnt_gl = 0 \n",
    "cnt_sogl = 0\n",
    "for i in range(len(s)):\n",
    "    if s[i] in 'ауоыиэяюёеАУОЫИЭЯЮЁЕ':\n",
    "        cnt_gl += 1\n",
    "    elif s[i] in 'бвгджзйклмнпрстфхцчшщБВГДЖЗЙКЛМНПРСТФХЦЧШЩ':\n",
    "        cnt_sogl += 1 \n",
    "print('Количество гласных букв равно', cnt_gl)\n",
    "print('Количество согласных букв равно', cnt_sogl)"
   ]
  },
  {
   "cell_type": "code",
   "execution_count": 39,
   "metadata": {},
   "outputs": [
    {
     "name": "stdout",
     "output_type": "stream",
     "text": [
      "1\n",
      "1\n",
      "0\n",
      "45\n",
      "59049\n",
      "0\n"
     ]
    }
   ],
   "source": [
    "num = int(input())\n",
    "cnt_3 = 0\n",
    "cnt_last_digit = 0\n",
    "cnt_ch = 0\n",
    "cnt_larger_than_5 = 0 \n",
    "last_digit = num % 10\n",
    "cnt_mult_larger_than_7 = 1\n",
    "cnt_0_5 = 0 \n",
    "\n",
    "while num != 0:\n",
    "    if num % 10 == 3:\n",
    "        cnt_3 += 1\n",
    "\n",
    "    if last_digit == num % 10:\n",
    "        cnt_last_digit += 1\n",
    "\n",
    "    if last_digit % 2 == 0:\n",
    "        cnt_ch += 1\n",
    "\n",
    "    if last_digit > 5:\n",
    "        cnt_larger_than_5 += last_digit\n",
    "\n",
    "    if last_digit > 7:\n",
    "        cnt_mult_larger_than_7 *= last_digit\n",
    "\n",
    "    if last_digit == 0 or last_digit == 5:\n",
    "        cnt_0_5 += 1\n",
    "    num //= 10\n",
    "\n",
    "print(cnt_3)\n",
    "print(cnt_last_digit)\n",
    "print(cnt_ch)\n",
    "print(cnt_larger_than_5)\n",
    "print(cnt_mult_larger_than_7)\n",
    "print(cnt_0_5)\n",
    "\n",
    "\n",
    "\n"
   ]
  },
  {
   "cell_type": "code",
   "execution_count": 41,
   "metadata": {},
   "outputs": [
    {
     "name": "stdout",
     "output_type": "stream",
     "text": [
      "gda\n"
     ]
    }
   ],
   "source": [
    "s = 'abcdefg'\n",
    "print(s[::-3])"
   ]
  },
  {
   "cell_type": "code",
   "execution_count": 47,
   "metadata": {},
   "outputs": [
    {
     "name": "stdout",
     "output_type": "stream",
     "text": [
      "26\n",
      "abcdefghijklmnopqrstuvwxyzabcdefghijklmnopqrstuvwxyzabcdefghijklmnopqrstuvwxyz\n",
      "a\n",
      "abc\n",
      "xy\n",
      "zyxwvutsrqponmlkjihgfedcba\n",
      "bcdefghijklmnopqrstuvwx\n"
     ]
    }
   ],
   "source": [
    "# put your python code here\n",
    "s = input()\n",
    "print((len(s)), s * 3, s[0], s[:3], s[-3:-1], s[::-1], s[1:-2], sep = '\\n')\n"
   ]
  },
  {
   "cell_type": "code",
   "execution_count": 50,
   "metadata": {},
   "outputs": [
    {
     "name": "stdout",
     "output_type": "stream",
     "text": [
      "True\n"
     ]
    }
   ],
   "source": [
    "a = 'bcdefghijklmnopqrstuvwxy'\n",
    "b = 'bcdefghijklmnopqrstuvwxy'\n",
    "if a == b:\n",
    "    print(True)"
   ]
  },
  {
   "cell_type": "code",
   "execution_count": 12,
   "metadata": {},
   "outputs": [
    {
     "name": "stdout",
     "output_type": "stream",
     "text": [
      "7\n"
     ]
    }
   ],
   "source": [
    "s = input()\n",
    "cnt = 0\n",
    "for i in range(len(s)):\n",
    "    if s[i] != s[i].upper():\n",
    "        cnt += 1 \n",
    "print(cnt)"
   ]
  },
  {
   "cell_type": "code",
   "execution_count": 2,
   "metadata": {},
   "outputs": [
    {
     "name": "stdout",
     "output_type": "stream",
     "text": [
      "Аденин 3\n"
     ]
    }
   ],
   "source": [
    "# Минутка генетики\n",
    "s = input()\n",
    "print('Аденин:', s.count('А') + s.count('а'))\n",
    "print('Гуанин:', s.count('Г') + s.count('г'))\n",
    "print('Цитозин:', s.count('Ц') + s.count('ц'))\n",
    "print('Тимин:', s.count('Т') + s.count('т'))\n",
    "    "
   ]
  },
  {
   "cell_type": "code",
   "execution_count": null,
   "metadata": {},
   "outputs": [],
   "source": [
    "# Очень странные дела\n",
    "n = int(input())\n",
    "cnt = 0 \n",
    "for _ in range(1, n + 1):\n",
    "    s = input()\n",
    "    if s.count('11') >= 3:\n",
    "        cnt += 1\n",
    "print(cnt)\n"
   ]
  },
  {
   "cell_type": "code",
   "execution_count": 20,
   "metadata": {},
   "outputs": [
    {
     "name": "stdout",
     "output_type": "stream",
     "text": [
      "6\n"
     ]
    }
   ],
   "source": [
    "s = input()\n",
    "cnt = 0 \n",
    "for i in range(len(s)):\n",
    "    if s[i] in '0123456789':\n",
    "        cnt += 1 \n",
    "print(cnt)"
   ]
  },
  {
   "cell_type": "code",
   "execution_count": null,
   "metadata": {},
   "outputs": [],
   "source": [
    "# .com or .ru\n",
    "s = input()\n",
    "if (s.endswith('.com')) or (s.endswith('.ru')):\n",
    "    print('YES')\n",
    "else: print('NO')"
   ]
  },
  {
   "cell_type": "code",
   "execution_count": 6,
   "metadata": {},
   "outputs": [
    {
     "name": "stdout",
     "output_type": "stream",
     "text": [
      "5 9\n"
     ]
    }
   ],
   "source": [
    "s = input()\n",
    "if s.count('f') == 1:\n",
    "    print(s.find('f'))\n",
    "elif s.count('f') >= 2:\n",
    "    print(s.find('f'), s.rfind('f'))\n",
    "else:\n",
    "    print('NO')"
   ]
  },
  {
   "cell_type": "code",
   "execution_count": 2,
   "metadata": {},
   "outputs": [
    {
     "name": "stdout",
     "output_type": "stream",
     "text": [
      "a\n"
     ]
    }
   ],
   "source": [
    "s = input()\n",
    "max1 = 0 \n",
    "max2 = 0 \n",
    "for i in s:\n",
    "    if s.count(i) >= max1:\n",
    "        max1 = s.count(i)\n",
    "        max2 = i\n",
    "print(max2)"
   ]
  },
  {
   "cell_type": "code",
   "execution_count": 6,
   "metadata": {},
   "outputs": [
    {
     "name": "stdout",
     "output_type": "stream",
     "text": [
      "Hello, Nikita, My name is Anna, 18\n"
     ]
    }
   ],
   "source": [
    "name = 'Nikita'\n",
    "age = 18 \n",
    "print(f'Hello, {name}, My name is Anna, {age}')"
   ]
  },
  {
   "cell_type": "code",
   "execution_count": 7,
   "metadata": {},
   "outputs": [
    {
     "name": "stdout",
     "output_type": "stream",
     "text": [
      "In 2010, someone paid 10k Bitcoins for two pizzas.\n"
     ]
    }
   ],
   "source": [
    "age = 2010\n",
    "cost = 10\n",
    "k = 'k'\n",
    "bit = 'Bitcoin'\n",
    "s = 'In {0}, someone paid {1}{2} {3} for two pizzas.'.format(age,cost,k,bit)\n",
    "print(s)\n"
   ]
  },
  {
   "cell_type": "code",
   "execution_count": null,
   "metadata": {},
   "outputs": [],
   "source": [
    "s = input()\n",
    "for i in range(len(s)):\n",
    "    print(chr(s[i]), end = ' ')"
   ]
  },
  {
   "cell_type": "code",
   "execution_count": null,
   "metadata": {},
   "outputs": [],
   "source": [
    "s = input()\n",
    "print(s[2], s[-2], s[:4], s[:-3])"
   ]
  },
  {
   "cell_type": "code",
   "execution_count": 9,
   "metadata": {},
   "outputs": [
    {
     "name": "stdout",
     "output_type": "stream",
     "text": [
      "[1, 2, 3, 4, 5]\n"
     ]
    }
   ],
   "source": [
    "num = int(input())\n",
    "list_num = list(range(1 , num + 1))\n",
    "print(list_num)"
   ]
  },
  {
   "cell_type": "code",
   "execution_count": null,
   "metadata": {},
   "outputs": [],
   "source": [
    "num = int(input())\n",
    "list_words = list(range(1, num + 1))\n",
    "print(chr(list_words))"
   ]
  },
  {
   "cell_type": "code",
   "execution_count": 12,
   "metadata": {},
   "outputs": [
    {
     "name": "stdout",
     "output_type": "stream",
     "text": [
      "6\n"
     ]
    }
   ],
   "source": [
    "primes = [2, 3, 5, 7, 11, 13, 17, 19, 23, 29, 31, 37, 41, 43, 47, 53, 59, 61, 67, 71]\n",
    "print(primes.index(17))"
   ]
  },
  {
   "cell_type": "code",
   "execution_count": 13,
   "metadata": {},
   "outputs": [
    {
     "name": "stdout",
     "output_type": "stream",
     "text": [
      "['red', 'orange', 'green', 'blue', 'purple', 'brown']\n"
     ]
    }
   ],
   "source": [
    "colors = ['red', 'orange', 'yellow', 'green', 'blue', 'purple', 'brown', 'magenta']\n",
    "del colors[2]\n",
    "del colors[6]\n",
    "print(colors)"
   ]
  },
  {
   "cell_type": "code",
   "execution_count": null,
   "metadata": {},
   "outputs": [],
   "source": [
    "a = []\n",
    "n = int(input())\n",
    "for i in range(1 , n + 1):\n",
    "    x = input()\n",
    "    a.append(x)\n",
    "print(a)"
   ]
  },
  {
   "cell_type": "code",
   "execution_count": 22,
   "metadata": {},
   "outputs": [
    {
     "name": "stdout",
     "output_type": "stream",
     "text": [
      "[1]\n",
      "[1, 8]\n",
      "[1, 8, 27]\n",
      "[1, 8, 27, 64]\n",
      "[1, 8, 27, 64, 125]\n"
     ]
    }
   ],
   "source": [
    "a = [] \n",
    "n = int(input())\n",
    "for i in range(1, n + 1):\n",
    "    num = int(input())\n",
    "    a.append(num ** 3)\n",
    "print(a)"
   ]
  },
  {
   "cell_type": "code",
   "execution_count": null,
   "metadata": {},
   "outputs": [],
   "source": [
    "lst_delitelei = [] \n",
    "num = int(input())\n",
    "for i in range(1, num + 1):\n",
    "    if num % i == 0:\n",
    "        lst_delitelei.append(i)\n",
    "print(lst_delitelei)\n"
   ]
  },
  {
   "cell_type": "code",
   "execution_count": 28,
   "metadata": {},
   "outputs": [
    {
     "name": "stdout",
     "output_type": "stream",
     "text": [
      "[1]\n"
     ]
    }
   ],
   "source": [
    "lst_sum = [] \n",
    "num = int(input())\n",
    "cnt = 0 \n",
    "for i in range(1, num + 1):\n",
    "    x = int(input())\n",
    "    cnt += x\n",
    "    lst_sum.append(cnt)\n",
    "    cnt = x\n",
    "print(lst_sum[1:])"
   ]
  },
  {
   "cell_type": "code",
   "execution_count": 30,
   "metadata": {},
   "outputs": [
    {
     "data": {
      "text/plain": [
       "[0, 2, 4, 6, 8]"
      ]
     },
     "execution_count": 30,
     "metadata": {},
     "output_type": "execute_result"
    }
   ],
   "source": [
    "a = [0,1,2,3,4,5,6,7,8,9]\n",
    "del a[1::2]"
   ]
  },
  {
   "cell_type": "code",
   "execution_count": 34,
   "metadata": {},
   "outputs": [
    {
     "name": "stdout",
     "output_type": "stream",
     "text": [
      "[0, 2, 4, 6, 8]\n"
     ]
    }
   ],
   "source": [
    "num = int(input())\n",
    "a = list()\n",
    "for i in range(1, num + 1):\n",
    "    x = int(input())\n",
    "    a.append(x)\n",
    "del a [1::2]\n",
    "print(a)"
   ]
  },
  {
   "cell_type": "code",
   "execution_count": 9,
   "metadata": {},
   "outputs": [
    {
     "name": "stdout",
     "output_type": "stream",
     "text": [
      "a\n"
     ]
    }
   ],
   "source": [
    "s = input()\n",
    "print(s[0:s.find('h'):s.rfind('h')])"
   ]
  },
  {
   "cell_type": "code",
   "execution_count": null,
   "metadata": {},
   "outputs": [],
   "source": [
    "n = int(input())\n",
    "s = [] \n",
    "for i in range(1, n + 1):\n",
    "    num = int(input())\n",
    "    s.append(num)\n",
    "print(*s, sep = '\\n')\n",
    "print()\n",
    "for c in s:\n",
    "    print((c + 1) ** 2)"
   ]
  },
  {
   "cell_type": "code",
   "execution_count": null,
   "metadata": {},
   "outputs": [],
   "source": [
    "count_num = int(input())\n",
    "s = []\n",
    "for i in range(1, count_num + 1):\n",
    "    num = int(input())\n",
    "    s.append(num)\n",
    "del max(s)\n",
    "del min(s)\n",
    "for c in s:\n",
    "    print(c)"
   ]
  },
  {
   "cell_type": "code",
   "execution_count": 21,
   "metadata": {},
   "outputs": [
    {
     "name": "stdout",
     "output_type": "stream",
     "text": [
      "fir\n",
      "sec\n",
      "third\n"
     ]
    }
   ],
   "source": [
    "# put your python code here\n",
    "n = int(input())\n",
    "s = []\n",
    "for i in range(1, n + 1):\n",
    "    words = input()\n",
    "    if words not in s:\n",
    "        s.append(words)\n",
    "for c in s:\n",
    "    print(c)"
   ]
  },
  {
   "cell_type": "code",
   "execution_count": null,
   "metadata": {},
   "outputs": [],
   "source": [
    "n = int(input())\n",
    "a = [] \n",
    "for i in range(1, n + 1):\n",
    "    words = input()\n",
    "    a.append(words)\n",
    "\n",
    "n2 = int(input())\n",
    "for k in range(1, n2 + 1):\n",
    "    search_word = input()\n",
    "for j in a:\n",
    "    if search_word.lower() in j.lower():\n",
    "        print(j)"
   ]
  },
  {
   "cell_type": "code",
   "execution_count": null,
   "metadata": {},
   "outputs": [],
   "source": [
    "n = int(input())\n",
    "lst = []\n",
    "for i in range(1, n + 1):\n",
    "    num = int(input())\n",
    "    lst.append(num)\n",
    "for j in lst:\n",
    "    if j < 0:\n",
    "        print(j)\n",
    "for k in lst:\n",
    "    if k == 0:\n",
    "        print(k)\n",
    "for x in lst:\n",
    "    if x > 0:\n",
    "        print(x)"
   ]
  },
  {
   "cell_type": "code",
   "execution_count": 13,
   "metadata": {},
   "outputs": [
    {
     "name": "stdout",
     "output_type": "stream",
     "text": [
      "Н.Б.Е."
     ]
    }
   ],
   "source": [
    "s = input().split()\n",
    "print(s[0][0], s[1][0], s[2][0], sep ='.', end ='.')\n"
   ]
  },
  {
   "cell_type": "code",
   "execution_count": null,
   "metadata": {},
   "outputs": [],
   "source": [
    "s = 'C:\\Windows\\System32\\calc.exe'\n",
    "print(*s.split('\\\\'), sep = '\\n')"
   ]
  },
  {
   "cell_type": "code",
   "execution_count": 19,
   "metadata": {},
   "outputs": [
    {
     "name": "stdout",
     "output_type": "stream",
     "text": [
      "+\n",
      "++\n",
      "+++\n",
      "++++\n",
      "+++++\n"
     ]
    }
   ],
   "source": [
    "s = input().split()\n",
    "for i in range(len(s)):\n",
    "    print('+' * int(s[i]))"
   ]
  },
  {
   "cell_type": "markdown",
   "metadata": {},
   "source": [
    "# Возобновление решения задач на Windows\n"
   ]
  },
  {
   "cell_type": "code",
   "execution_count": 10,
   "metadata": {},
   "outputs": [
    {
     "name": "stdout",
     "output_type": "stream",
     "text": [
      "[(10, 20, 100), (40, 50, 100), (70, 80, 100), (10, 100), (1, 2, 3, 100), (5, 6, 10, 2, 1, 100)]\n"
     ]
    }
   ],
   "source": [
    "tuples = [(10, 20, 40), (40, 50, 60), (70, 80, 90), (10, 90), (1, 2, 3, 4), (5, 6, 10, 2, 1, 77)]\n",
    "new_tuples = [i[:-1] + (100,) for i in tuples]\n",
    "print(new_tuples)"
   ]
  },
  {
   "cell_type": "code",
   "execution_count": 9,
   "metadata": {},
   "outputs": [
    {
     "name": "stdout",
     "output_type": "stream",
     "text": [
      "129638530920927229333292160000\n"
     ]
    }
   ],
   "source": [
    "import functools \n",
    "numbers = (2, 3, 5, 7, -11, 13, 17, 19, 23, 29, 31, -6, 41, 43, 47, 53, 59, 61, -96, 71, 1000, -1)\n",
    "\n",
    "product = functools.reduce(lambda x, y: x  *  y, numbers)\n",
    "\n",
    "print(product)"
   ]
  },
  {
   "cell_type": "code",
   "execution_count": 13,
   "metadata": {},
   "outputs": [
    {
     "name": "stdout",
     "output_type": "stream",
     "text": [
      "('Пушкин', 1799, 'Москва')\n"
     ]
    }
   ],
   "source": [
    "poet_data = ('Пушкин', 1799, 'Санкт-Петербург')\n",
    "poet_data = list(poet_data)\n",
    "poet_data[-1] = 'Москва'\n",
    "poet_data = tuple(poet_data)\n",
    "print(poet_data)"
   ]
  },
  {
   "cell_type": "code",
   "execution_count": 24,
   "metadata": {},
   "outputs": [
    {
     "data": {
      "text/plain": [
       "[10.5, 44.0, 58.0, 2.5, 50.0]"
      ]
     },
     "execution_count": 24,
     "metadata": {},
     "output_type": "execute_result"
    }
   ],
   "source": [
    "numbers = ((10, 10, 10, 12), (30, 45, 56, 45), (81, 80, 39, 32), (1, 2, 3, 4), (90, 10))\n",
    "[sum(i)/len(i) for i in numbers]"
   ]
  },
  {
   "cell_type": "code",
   "execution_count": 35,
   "metadata": {},
   "outputs": [
    {
     "ename": "TypeError",
     "evalue": "'int' object is not iterable",
     "output_type": "error",
     "traceback": [
      "\u001b[1;31m---------------------------------------------------------------------------\u001b[0m",
      "\u001b[1;31mTypeError\u001b[0m                                 Traceback (most recent call last)",
      "Cell \u001b[1;32mIn[35], line 3\u001b[0m\n\u001b[0;32m      1\u001b[0m a,b,c \u001b[38;5;241m=\u001b[39m \u001b[38;5;28mint\u001b[39m(\u001b[38;5;28minput\u001b[39m()), \u001b[38;5;28mint\u001b[39m(\u001b[38;5;28minput\u001b[39m()), \u001b[38;5;28mint\u001b[39m(\u001b[38;5;28minput\u001b[39m())\n\u001b[1;32m----> 3\u001b[0m \u001b[38;5;28mprint\u001b[39m(\u001b[38;5;28;43mtuple\u001b[39;49m\u001b[43m(\u001b[49m\u001b[38;5;241;43m-\u001b[39;49m\u001b[43m(\u001b[49m\u001b[43mb\u001b[49m\u001b[38;5;241;43m/\u001b[39;49m\u001b[38;5;241;43m/\u001b[39;49m\u001b[43m(\u001b[49m\u001b[38;5;241;43m2\u001b[39;49m\u001b[38;5;241;43m*\u001b[39;49m\u001b[43ma\u001b[49m\u001b[43m)\u001b[49m\u001b[43m)\u001b[49m\u001b[43m)\u001b[49m, \u001b[38;5;28mtuple\u001b[39m((((\u001b[38;5;241m4\u001b[39m\u001b[38;5;241m*\u001b[39ma\u001b[38;5;241m*\u001b[39mc)\u001b[38;5;241m-\u001b[39mb\u001b[38;5;241m*\u001b[39m\u001b[38;5;241m*\u001b[39m\u001b[38;5;241m2\u001b[39m))\u001b[38;5;241m/\u001b[39m\u001b[38;5;241m/\u001b[39m\u001b[38;5;241m4\u001b[39m \u001b[38;5;241m*\u001b[39m a))\n",
      "\u001b[1;31mTypeError\u001b[0m: 'int' object is not iterable"
     ]
    }
   ],
   "source": [
    "a,b,c = int(input()), int(input()), int(input())\n",
    "\n",
    "print(tuple(-(b//(2*a))), tuple((((4*a*c)-b**2))//4 * a))"
   ]
  }
 ],
 "metadata": {
  "kernelspec": {
   "display_name": "Python 3",
   "language": "python",
   "name": "python3"
  },
  "language_info": {
   "codemirror_mode": {
    "name": "ipython",
    "version": 3
   },
   "file_extension": ".py",
   "mimetype": "text/x-python",
   "name": "python",
   "nbconvert_exporter": "python",
   "pygments_lexer": "ipython3",
   "version": "3.10.6"
  }
 },
 "nbformat": 4,
 "nbformat_minor": 2
}
